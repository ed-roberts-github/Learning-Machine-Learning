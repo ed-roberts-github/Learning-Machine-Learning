{
  "nbformat": 4,
  "nbformat_minor": 0,
  "metadata": {
    "colab": {
      "name": "convolutional_neural_network(CNN).ipynb",
      "provenance": [],
      "collapsed_sections": [],
      "include_colab_link": true
    },
    "kernelspec": {
      "name": "python3",
      "display_name": "Python 3"
    }
  },
  "cells": [
    {
      "cell_type": "markdown",
      "metadata": {
        "id": "view-in-github",
        "colab_type": "text"
      },
      "source": [
        "<a href=\"https://colab.research.google.com/github/ed-roberts-github/Previous-work/blob/main/convolutional_neural_network(CNN).ipynb\" target=\"_parent\"><img src=\"https://colab.research.google.com/assets/colab-badge.svg\" alt=\"Open In Colab\"/></a>"
      ]
    },
    {
      "cell_type": "markdown",
      "metadata": {
        "id": "3DR-eO17geWu"
      },
      "source": [
        "# Convolutional Neural Network"
      ]
    },
    {
      "cell_type": "markdown",
      "metadata": {
        "id": "ypGed08ulqL6"
      },
      "source": [
        "Note the dataset is photos so is to big to run on google colab so needs to be run in jupiter notebook :("
      ]
    },
    {
      "cell_type": "markdown",
      "metadata": {
        "id": "EMefrVPCg-60"
      },
      "source": [
        "### Importing the libraries"
      ]
    },
    {
      "cell_type": "code",
      "metadata": {
        "id": "i8n-M-VUmOYA"
      },
      "source": [
        "import tensorflow as tf\n",
        "import numpy as np\n",
        "from keras.preprocessing.image import ImageDataGenerator"
      ],
      "execution_count": 2,
      "outputs": []
    },
    {
      "cell_type": "code",
      "metadata": {
        "colab": {
          "base_uri": "https://localhost:8080/",
          "height": 37
        },
        "id": "O7ftmnIFmv9b",
        "outputId": "ba07197d-fcc6-49cb-f6f2-335af0169544"
      },
      "source": [
        "tf.__version__"
      ],
      "execution_count": 3,
      "outputs": [
        {
          "output_type": "execute_result",
          "data": {
            "application/vnd.google.colaboratory.intrinsic+json": {
              "type": "string"
            },
            "text/plain": [
              "'2.6.0'"
            ]
          },
          "metadata": {},
          "execution_count": 3
        }
      ]
    },
    {
      "cell_type": "markdown",
      "metadata": {
        "id": "oxQxCBWyoGPE"
      },
      "source": [
        "## Part 1 - Data Preprocessing"
      ]
    },
    {
      "cell_type": "markdown",
      "metadata": {
        "id": "MvE-heJNo3GG"
      },
      "source": [
        "### Preprocessing the Training set"
      ]
    },
    {
      "cell_type": "code",
      "metadata": {
        "id": "egIMAgY5m1sJ"
      },
      "source": [
        "#only applying transformations to training set to avoid overfitting.\n",
        "#(image augmentation) This code can be seen on keras API\n",
        "\n",
        "train_datagen = ImageDataGenerator(\n",
        "    resacle = 1./255,\n",
        "    shear_range = 0.2,\n",
        "    zoom_range=0.2,\n",
        "    horizontal_flit=True) #1./255 is essentially future scaling\n",
        "\n",
        "#note training data is called training_set in dataset directory\n",
        "#using (64,64) as its the final size of images that will be fed into network (bigger means slower)\n",
        "training_set = train_datagen.flow_from_directory(\n",
        "    'dataset/training_set',\n",
        "     target_size = (64, 64),\n",
        "     batch_size = 32,\n",
        "     class_mode = 'binary')\n"
      ],
      "execution_count": null,
      "outputs": []
    },
    {
      "cell_type": "markdown",
      "metadata": {
        "id": "mrCMmGw9pHys"
      },
      "source": [
        "### Preprocessing the Test set"
      ]
    },
    {
      "cell_type": "code",
      "metadata": {
        "id": "RnlsBNFfo95g"
      },
      "source": [
        "#need to apply the same future scaling but don't want to transform the images as they are new fresh images\n",
        "test_datagen = ImageDataGenerator(rescale = 1./255)\n",
        "test_set = test_datagen.flow_from_directory('dataset/test_set',\n",
        "                                            target_size = (64, 64),\n",
        "                                            batch_size = 32,\n",
        "                                            class_mode = 'binary') "
      ],
      "execution_count": null,
      "outputs": []
    },
    {
      "cell_type": "markdown",
      "metadata": {
        "id": "af8O4l90gk7B"
      },
      "source": [
        "## Part 2 - Building the CNN"
      ]
    },
    {
      "cell_type": "markdown",
      "metadata": {
        "id": "ces1gXY2lmoX"
      },
      "source": [
        "### Initialising the CNN"
      ]
    },
    {
      "cell_type": "code",
      "metadata": {
        "id": "ETSD8vK3ps7G"
      },
      "source": [
        "cnn = tf.keras.models.Sequential() "
      ],
      "execution_count": null,
      "outputs": []
    },
    {
      "cell_type": "markdown",
      "metadata": {
        "id": "u5YJj_XMl5LF"
      },
      "source": [
        "### Step 1 - Convolution"
      ]
    },
    {
      "cell_type": "code",
      "metadata": {
        "id": "Nt7CBQRJqCcc"
      },
      "source": [
        "cnn.add(tf.keras.layers.Conv2D(filters = 32, kernal_size = 3, activation = 'relu', input_shape = [64,64,3]))\n",
        "#kernal size is the size of the feature detectors\n",
        "#again using rectifier function\n",
        "#64,64,3 the 3 says its coloured as RGB"
      ],
      "execution_count": null,
      "outputs": []
    },
    {
      "cell_type": "markdown",
      "metadata": {
        "id": "tf87FpvxmNOJ"
      },
      "source": [
        "### Step 2 - Pooling"
      ]
    },
    {
      "cell_type": "code",
      "metadata": {
        "id": "tIfVmGs2q2v3"
      },
      "source": [
        "cnn.add(tfkeras.layers.MaxPool2D(pool_size = 2, strides = 2))\n",
        "#pool size is the size of the frame which is being pooled over\n",
        "#strides is obvs the stride length taken by the pool area"
      ],
      "execution_count": null,
      "outputs": []
    },
    {
      "cell_type": "markdown",
      "metadata": {
        "id": "xaTOgD8rm4mU"
      },
      "source": [
        "### Adding a second convolutional layer"
      ]
    },
    {
      "cell_type": "code",
      "metadata": {
        "id": "IsmfvUt9rg2O"
      },
      "source": [
        "cnn.add(tf.keras.layers.Conv2D(filters = 32, kernal_size = 3, activation = 'relu'))\n",
        "cnn.add(tfkeras.layers.MaxPool2D(pool_size = 2, strides = 2))"
      ],
      "execution_count": null,
      "outputs": []
    },
    {
      "cell_type": "markdown",
      "metadata": {
        "id": "tmiEuvTunKfk"
      },
      "source": [
        "### Step 3 - Flattening"
      ]
    },
    {
      "cell_type": "code",
      "metadata": {
        "id": "hui3N84vrqNz"
      },
      "source": [
        "cnn.add(tf.keras.layers.Flatten())"
      ],
      "execution_count": null,
      "outputs": []
    },
    {
      "cell_type": "markdown",
      "metadata": {
        "id": "dAoSECOm203v"
      },
      "source": [
        "### Step 4 - Full Connection"
      ]
    },
    {
      "cell_type": "code",
      "metadata": {
        "id": "QZunIY05r1YW"
      },
      "source": [
        "#same as with ANN now\n",
        "cnn.add(tf.keras.layers.Dense(units = 128, activation = 'relu'))"
      ],
      "execution_count": null,
      "outputs": []
    },
    {
      "cell_type": "markdown",
      "metadata": {
        "id": "yTldFvbX28Na"
      },
      "source": [
        "### Step 5 - Output Layer"
      ]
    },
    {
      "cell_type": "code",
      "metadata": {
        "id": "FQXe9PS5sLfx"
      },
      "source": [
        "ann.add(tf.keras.layers.Dense(units = 1, activation = 'sigmoid')) \n",
        "#binary output so only need one final neuron"
      ],
      "execution_count": null,
      "outputs": []
    },
    {
      "cell_type": "markdown",
      "metadata": {
        "id": "D6XkI90snSDl"
      },
      "source": [
        "## Part 3 - Training the CNN"
      ]
    },
    {
      "cell_type": "markdown",
      "metadata": {
        "id": "vfrFQACEnc6i"
      },
      "source": [
        "### Compiling the CNN"
      ]
    },
    {
      "cell_type": "code",
      "metadata": {
        "id": "q2OJq0rXsj9X"
      },
      "source": [
        "#same as in last example with binary output\n",
        "cnn.complie(optimizer = 'adam', loss = 'binary_crossentropy', metrics = ['accuracy'])"
      ],
      "execution_count": null,
      "outputs": []
    },
    {
      "cell_type": "markdown",
      "metadata": {
        "id": "ehS-v3MIpX2h"
      },
      "source": [
        "### Training the CNN on the Training set and evaluating it on the Test set"
      ]
    },
    {
      "cell_type": "code",
      "metadata": {
        "id": "cws3HKPps5jj"
      },
      "source": [
        "cnn.fit(x = training_set, validation_data = test_Set, epochs = 25)\n",
        "#again found epochs by trial and error (note with 25 still takes a while to run)"
      ],
      "execution_count": null,
      "outputs": []
    },
    {
      "cell_type": "markdown",
      "metadata": {
        "id": "U3PZasO0006Z"
      },
      "source": [
        "## Part 4 - Making a single prediction"
      ]
    },
    {
      "cell_type": "code",
      "metadata": {
        "id": "CZfKIo4ittPe"
      },
      "source": [
        "from keras.preprocessing import image\n",
        "test_image = image.load_img('dataset/single_prediction/cat_or_dog_1.jpg', target_size = (64,64))\n",
        "\n",
        "#predict method expects a 2d array so need to convert this image into a 2d array\n",
        "test_image = image.img_to_array(test_image)\n",
        "\n",
        "#cnn was trained on batches of images so now we still have to input images as a batch\n",
        "#So adding dimension so it fits what model expects (still only 1 element in bacth)\n",
        "test_image = np.expand_dims(test_image, axis = 0)\n",
        "result = cnn.predict(test_image)\n",
        "\n",
        "#now figuring out what is 1/0 dog/cat\n",
        "training_set.class_indices\n",
        "\n",
        "if (result[0][0] == 1):\n",
        "  pediction = 'dog'\n",
        "else:\n",
        "  prediction = 'cat'\n"
      ],
      "execution_count": null,
      "outputs": []
    },
    {
      "cell_type": "code",
      "metadata": {
        "id": "wsg0tPXVv02K"
      },
      "source": [
        "print(prediction)"
      ],
      "execution_count": null,
      "outputs": []
    }
  ]
}