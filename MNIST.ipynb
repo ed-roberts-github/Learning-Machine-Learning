{
 "cells": [
  {
   "cell_type": "markdown",
   "id": "8168fc87",
   "metadata": {},
   "source": [
    "CNN 0-9 classifier using the MNIST data set"
   ]
  },
  {
   "cell_type": "code",
   "execution_count": 20,
   "id": "fd83a02b",
   "metadata": {},
   "outputs": [
    {
     "data": {
      "text/plain": [
       "'2.6.0'"
      ]
     },
     "execution_count": 20,
     "metadata": {},
     "output_type": "execute_result"
    }
   ],
   "source": [
    "import tensorflow as tf\n",
    "import numpy as np\n",
    "from keras.preprocessing.image import ImageDataGenerator\n",
    "tf.__version__"
   ]
  },
  {
   "cell_type": "code",
   "execution_count": 21,
   "id": "6fbf0739",
   "metadata": {},
   "outputs": [
    {
     "name": "stdout",
     "output_type": "stream",
     "text": [
      "X_train shape (60000, 28, 28, 1)\n",
      "y_train shape (60000,)\n",
      "X_test shape (10000, 28, 28, 1)\n",
      "y_test shape (10000,)\n",
      "[5 0 4 ... 5 6 8]\n",
      "[7 2 1 ... 4 5 6]\n"
     ]
    }
   ],
   "source": [
    "#luckily mnist is included in the keras libary!!\n",
    "#I found this code of how to import the data online\n",
    "from keras.datasets import mnist\n",
    "(X_train, y_train), (X_test, y_test) = mnist.load_data()\n",
    "\n",
    "X_train = X_train.reshape(X_train.shape[0], 28, 28, 1)\n",
    "X_test = X_test.reshape(X_test.shape[0], 28, 28, 1)\n",
    "X_train = X_train.astype('float32')\n",
    "X_test = X_test.astype('float32')\n",
    "\n",
    "#I used this to understand format of arrays\n",
    "print(\"X_train shape\", X_train.shape)\n",
    "print(\"y_train shape\", y_train.shape)\n",
    "print(\"X_test shape\", X_test.shape)\n",
    "print(\"y_test shape\", y_test.shape)\n",
    "print(y_train)\n",
    "print(y_test)"
   ]
  },
  {
   "cell_type": "code",
   "execution_count": 22,
   "id": "3ea57a42",
   "metadata": {},
   "outputs": [],
   "source": [
    "#future scaling\n",
    "X_train = X_train /255\n",
    "X_test = X_test / 255"
   ]
  },
  {
   "cell_type": "code",
   "execution_count": 23,
   "id": "091a4e74",
   "metadata": {
    "scrolled": true
   },
   "outputs": [
    {
     "name": "stdout",
     "output_type": "stream",
     "text": [
      "[[0. 0. 0. ... 0. 0. 0.]\n",
      " [1. 0. 0. ... 0. 0. 0.]\n",
      " [0. 0. 0. ... 0. 0. 0.]\n",
      " ...\n",
      " [0. 0. 0. ... 0. 0. 0.]\n",
      " [0. 0. 0. ... 0. 0. 0.]\n",
      " [0. 0. 0. ... 0. 1. 0.]]\n",
      "[[0. 0. 0. ... 1. 0. 0.]\n",
      " [0. 0. 1. ... 0. 0. 0.]\n",
      " [0. 1. 0. ... 0. 0. 0.]\n",
      " ...\n",
      " [0. 0. 0. ... 0. 0. 0.]\n",
      " [0. 0. 0. ... 0. 0. 0.]\n",
      " [0. 0. 0. ... 0. 0. 0.]]\n",
      "5\n",
      "7\n"
     ]
    }
   ],
   "source": [
    "#one hot encoding the y data classification(0-9)\n",
    "#Note this si a quicker way than i learnt on the course, as it turns out theres a class in keras that can do it directly\n",
    "from keras.utils import np_utils as npu\n",
    "y_train = npu.to_categorical(y_train)\n",
    "y_test = npu.to_categorical(y_test)\n",
    "print(y_train)\n",
    "print(y_test)\n",
    "print(np.argmax(y_train[0]))\n",
    "print(np.argmax(y_test[0]))\n",
    "#np.argmax can be used to undo one hot encoding"
   ]
  },
  {
   "cell_type": "code",
   "execution_count": 24,
   "id": "9d529daf",
   "metadata": {},
   "outputs": [],
   "source": [
    "#Building CNN\n",
    "\n",
    "cnn = tf.keras.models.Sequential() \n",
    "\n",
    "#convolution\n",
    "cnn.add(tf.keras.layers.Conv2D(filters = 25, kernel_size = 3, activation = 'relu', input_shape = [28,28,1]))\n",
    "#pooling\n",
    "cnn.add(tf.keras.layers.MaxPool2D(pool_size = 2, strides = 2))\n",
    "\n",
    "#second convolution and pooling\n",
    "cnn.add(tf.keras.layers.Conv2D(filters = 25, kernel_size = 3, activation = 'relu', input_shape = [28,28,1]))\n",
    "cnn.add(tf.keras.layers.MaxPool2D(pool_size = 2, strides = 2))\n",
    "\n",
    "#flattening\n",
    "cnn.add(tf.keras.layers.Flatten())\n",
    "\n",
    "#adding ANN layers\n",
    "cnn.add(tf.keras.layers.Dense(units = 120, activation = 'relu'))\n",
    "cnn.add(tf.keras.layers.Dense(units = 10, activation = 'softmax')) "
   ]
  },
  {
   "cell_type": "code",
   "execution_count": 25,
   "id": "4debf59e",
   "metadata": {},
   "outputs": [
    {
     "name": "stdout",
     "output_type": "stream",
     "text": [
      "Epoch 1/5\n",
      "469/469 [==============================] - 24s 51ms/step - loss: 0.2667 - accuracy: 0.9230 - val_loss: 0.0744 - val_accuracy: 0.9779\n",
      "Epoch 2/5\n",
      "469/469 [==============================] - 24s 50ms/step - loss: 0.0703 - accuracy: 0.9783 - val_loss: 0.0522 - val_accuracy: 0.9835\n",
      "Epoch 3/5\n",
      "469/469 [==============================] - 27s 58ms/step - loss: 0.0489 - accuracy: 0.9847 - val_loss: 0.0440 - val_accuracy: 0.9870\n",
      "Epoch 4/5\n",
      "469/469 [==============================] - 25s 53ms/step - loss: 0.0387 - accuracy: 0.9879 - val_loss: 0.0340 - val_accuracy: 0.9886\n",
      "Epoch 5/5\n",
      "469/469 [==============================] - 25s 54ms/step - loss: 0.0304 - accuracy: 0.9905 - val_loss: 0.0365 - val_accuracy: 0.9886\n"
     ]
    },
    {
     "data": {
      "text/plain": [
       "<keras.callbacks.History at 0x7f9e5b1c2550>"
      ]
     },
     "execution_count": 25,
     "metadata": {},
     "output_type": "execute_result"
    }
   ],
   "source": [
    "#training\n",
    "\n",
    "cnn.compile(optimizer = 'adam', loss = 'categorical_crossentropy', metrics = ['accuracy'])\n",
    "\n",
    "cnn.fit(x = X_train,y = y_train, validation_data = (X_test,y_test), epochs = 5, batch_size = 128)"
   ]
  },
  {
   "cell_type": "markdown",
   "id": "ad5a9d06",
   "metadata": {},
   "source": [
    "99% accuracy seems good too good to be true?!?!"
   ]
  }
 ],
 "metadata": {
  "kernelspec": {
   "display_name": "Python 3",
   "language": "python",
   "name": "python3"
  },
  "language_info": {
   "codemirror_mode": {
    "name": "ipython",
    "version": 3
   },
   "file_extension": ".py",
   "mimetype": "text/x-python",
   "name": "python",
   "nbconvert_exporter": "python",
   "pygments_lexer": "ipython3",
   "version": "3.8.8"
  }
 },
 "nbformat": 4,
 "nbformat_minor": 5
}
