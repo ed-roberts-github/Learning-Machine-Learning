{
  "nbformat": 4,
  "nbformat_minor": 0,
  "metadata": {
    "colab": {
      "name": "Copy of upper_confidence_bound.ipynb",
      "provenance": [],
      "collapsed_sections": [],
      "include_colab_link": true
    },
    "kernelspec": {
      "name": "python3",
      "display_name": "Python 3"
    }
  },
  "cells": [
    {
      "cell_type": "markdown",
      "metadata": {
        "id": "view-in-github",
        "colab_type": "text"
      },
      "source": [
        "<a href=\"https://colab.research.google.com/github/ed-roberts-github/Previous-work/blob/main/upper_confidence_bound(UCB).ipynb\" target=\"_parent\"><img src=\"https://colab.research.google.com/assets/colab-badge.svg\" alt=\"Open In Colab\"/></a>"
      ]
    },
    {
      "cell_type": "markdown",
      "metadata": {
        "id": "QJdrJJQUv3-k"
      },
      "source": [
        "# Upper Confidence Bound (UCB)"
      ]
    },
    {
      "cell_type": "markdown",
      "metadata": {
        "id": "2XCjepjJwEv-"
      },
      "source": [
        "## Importing the libraries"
      ]
    },
    {
      "cell_type": "code",
      "metadata": {
        "id": "l_mBkG3YwNTt"
      },
      "source": [
        "import numpy as np\n",
        "import matplotlib.pyplot as plt\n",
        "import pandas as pd\n",
        "import math "
      ],
      "execution_count": 27,
      "outputs": []
    },
    {
      "cell_type": "markdown",
      "metadata": {
        "id": "npqlXjaNwYTv"
      },
      "source": [
        "## Importing the dataset"
      ]
    },
    {
      "cell_type": "markdown",
      "metadata": {
        "id": "S188OZkoxDXS"
      },
      "source": [
        "UCB is a dynamic process that happens in real time, the data give here is obvs static so need to make a simulation. So the data is in the format of rows showing what adds the user would (1) and wouldn't click (0)."
      ]
    },
    {
      "cell_type": "code",
      "metadata": {
        "id": "HMJfUVLVwcFc",
        "colab": {
          "base_uri": "https://localhost:8080/"
        },
        "outputId": "0740679b-337b-42c4-b2a0-ed9d7fd70548"
      },
      "source": [
        "dataset = pd.read_csv('Ads_CTR_Optimisation.csv')\n",
        "print(dataset)"
      ],
      "execution_count": 28,
      "outputs": [
        {
          "output_type": "stream",
          "name": "stdout",
          "text": [
            "      Ad 1  Ad 2  Ad 3  Ad 4  Ad 5  Ad 6  Ad 7  Ad 8  Ad 9  Ad 10\n",
            "0        1     0     0     0     1     0     0     0     1      0\n",
            "1        0     0     0     0     0     0     0     0     1      0\n",
            "2        0     0     0     0     0     0     0     0     0      0\n",
            "3        0     1     0     0     0     0     0     1     0      0\n",
            "4        0     0     0     0     0     0     0     0     0      0\n",
            "...    ...   ...   ...   ...   ...   ...   ...   ...   ...    ...\n",
            "9995     0     0     1     0     0     0     0     1     0      0\n",
            "9996     0     0     0     0     0     0     0     0     0      0\n",
            "9997     0     0     0     0     0     0     0     0     0      0\n",
            "9998     1     0     0     0     0     0     0     1     0      0\n",
            "9999     0     1     0     0     0     0     0     0     0      0\n",
            "\n",
            "[10000 rows x 10 columns]\n"
          ]
        }
      ]
    },
    {
      "cell_type": "markdown",
      "metadata": {
        "id": "PaSbots_wfoB"
      },
      "source": [
        "## Implementing UCB"
      ]
    },
    {
      "cell_type": "code",
      "metadata": {
        "id": "KgH5NAmiyTtR"
      },
      "source": [
        "d = 10                          #number of adds\n",
        "N = 10000                       #number of people\n",
        "ads_selected = []               #list of selected ad over rounds\n",
        "numbers_of_selections = [0] * d #number of times each add is selected, initalised with 10 0s\n",
        "sums_of_rewards = [0] * d       #sum of rewards of each add \n",
        "total_reward = 0\n",
        "\n",
        "for n in range(0, N):\n",
        "  ad = 0 \n",
        "  max_upper_bound = 0 #max of upper confidence bound\n",
        "  for i in range(0,d):\n",
        "    if (numbers_of_selections[i] > 0):\n",
        "      average_reward = sums_of_rewards[i] /numbers_of_selections[i]\n",
        "      delta_i = math.sqrt(3 * math.log(n+1) / (2 * numbers_of_selections[i]))\n",
        "      upper_bound = average_reward + delta_i\n",
        "    \n",
        "    else:\n",
        "      #making sure all ads are selected in first N rounds\n",
        "      #do this by making upper_bound large\n",
        "      upper_bound = 1e400\n",
        "\n",
        "    #checking to see if this ad has highest bound so far\n",
        "    if (max_upper_bound < upper_bound):\n",
        "      max_upper_bound = upper_bound\n",
        "      ad = i\n",
        "\n",
        "  #chaning the variables as required\n",
        "  ads_selected.append(ad)\n",
        "  numbers_of_selections[ad] += 1\n",
        "  reward = dataset.values[n,ad]\n",
        "  sums_of_rewards[ad] = sums_of_rewards[ad] + reward #adding the reward to selected ad from reward from dataset\n",
        "  total_reward = total_reward = reward\n"
      ],
      "execution_count": 29,
      "outputs": []
    },
    {
      "cell_type": "markdown",
      "metadata": {
        "id": "AXftWcjDwsYj"
      },
      "source": [
        "## Visualising the results"
      ]
    },
    {
      "cell_type": "code",
      "metadata": {
        "colab": {
          "base_uri": "https://localhost:8080/",
          "height": 295
        },
        "id": "NyiOTvOz8YzL",
        "outputId": "6ae81010-9f35-4bad-b792-f23c12b4a5f7"
      },
      "source": [
        "plt.hist(ads_selected)\n",
        "plt.title(\"Histogram of ads selections\")\n",
        "plt.xlabel('Ads')\n",
        "plt.ylabel('No. times ad selected')\n",
        "plt.show()"
      ],
      "execution_count": 30,
      "outputs": [
        {
          "output_type": "display_data",
          "data": {
            "image/png": "[encoded data removed]",
            "text/plain": [
              "<Figure size 432x288 with 1 Axes>"
            ]
          },
          "metadata": {
            "needs_background": "light"
          }
        }
      ]
    }
  ]
}